{
 "cells": [
  {
   "cell_type": "code",
   "execution_count": 29,
   "id": "bee9fa8b-e3f9-4616-80ef-f9d31fd6612a",
   "metadata": {},
   "outputs": [],
   "source": [
    "import pandas as pd\n",
    "import requests\n",
    "import os\n",
    "import datetime"
   ]
  },
  {
   "cell_type": "code",
   "execution_count": 5,
   "id": "37d903ac-969a-4ea8-9d44-4f648ccb2532",
   "metadata": {},
   "outputs": [
    {
     "name": "stdout",
     "output_type": "stream",
     "text": [
      "The dotenv extension is already loaded. To reload it, use:\n",
      "  %reload_ext dotenv\n"
     ]
    }
   ],
   "source": [
    "%load_ext dotenv\n",
    "%dotenv"
   ]
  },
  {
   "cell_type": "code",
   "execution_count": 238,
   "id": "d29ccf83-7912-4863-94af-29ba2c3e44e6",
   "metadata": {},
   "outputs": [],
   "source": [
    "av_api_key = os.environ['ALPHA_VANTAGE_API_KEY']"
   ]
  },
  {
   "cell_type": "code",
   "execution_count": 34,
   "id": "b3128413-408f-4368-a569-7cfe62c88c25",
   "metadata": {},
   "outputs": [],
   "source": [
    "num_requests = 0"
   ]
  },
  {
   "cell_type": "code",
   "execution_count": 261,
   "id": "af1479fe-f919-48f5-af86-9daa6dace0ef",
   "metadata": {
    "scrolled": true
   },
   "outputs": [],
   "source": [
    "def getData(stock_symbol: str) -> object:\n",
    "    url = f'https://www.alphavantage.co/query?function=TIME_SERIES_DAILY&symbol={stock_symbol}&outputsize=full&apikey={av_api_key}'\n",
    "    r = requests.get(url)\n",
    "    return r.json()"
   ]
  },
  {
   "cell_type": "code",
   "execution_count": 283,
   "id": "763ab953-3f93-4eb9-bcc3-526bda6eb186",
   "metadata": {
    "scrolled": true
   },
   "outputs": [],
   "source": [
    "num_requests += 1\n",
    "stock_data = getData('AMD')['Time Series (Daily)']"
   ]
  },
  {
   "cell_type": "code",
   "execution_count": 290,
   "id": "72b59bdb-9fb9-47cc-a3ba-329f42998844",
   "metadata": {},
   "outputs": [],
   "source": [
    "def simulate(day: datetime.datetime, data: object, return_threshold: float, buy_threshold: float, chunks: int, initial_amt: float) -> [float, list, float]:\n",
    "    # [price, num_units]\n",
    "    holdings = []\n",
    "    cash = initial_amt\n",
    "    num_units = chunks\n",
    "    last_price = -1\n",
    "    while(datetime.datetime.today() >= day):\n",
    "        day_str = datetime.datetime.strftime(day, '%Y-%m-%d')\n",
    "        if(day_str in data):\n",
    "            last_price = float(data[day_str]['4. close'])\n",
    "            data[day_str]['1. open'], data[day_str]['2. high'], data[day_str]['3. low'] = float(data[day_str]['1. open']),\\\n",
    "                                            float(data[day_str]['2. high']), float(data[day_str]['3. low'])\n",
    "\n",
    "            #sell strategy\n",
    "            extra_cash = 0\n",
    "            extra_units = 0\n",
    "            pop_list = []\n",
    "            for i, stock_obj in enumerate(holdings):\n",
    "                price, units_of_stock = stock_obj[0], stock_obj[1]\n",
    "                pct_gain = (data[day_str]['2. high'] - price) / price\n",
    "                if pct_gain > return_threshold:\n",
    "                    pop_list.append(i)\n",
    "                    revenue = (1 + return_threshold) * price * units_of_stock\n",
    "                    profit = ((revenue - (price * units_of_stock)) * 0.63)\n",
    "                    extra_cash += ((price * units_of_stock) + profit)\n",
    "                    extra_units += 1\n",
    "            counter = 0\n",
    "            for i in pop_list:\n",
    "                holdings.pop(i - counter)\n",
    "                counter += 1\n",
    "                \n",
    "            #buy strategy\n",
    "            pct_loss = (data[day_str]['3. low'] - data[day_str]['1. open']) / data[day_str]['1. open']\n",
    "            if (-1 * pct_loss) > buy_threshold and cash > 0:\n",
    "                holdings.append([data[day_str]['1. open'] * (1 - buy_threshold),\n",
    "                                (cash / num_units) / (data[day_str]['1. open'] * (1 - buy_threshold))])\n",
    "                cash -= (cash / num_units)\n",
    "                num_units -= 1\n",
    "\n",
    "            cash += extra_cash\n",
    "            num_units += extra_units\n",
    "                    \n",
    "        day += datetime.timedelta(days=1)\n",
    "        \n",
    "    cur_assets = cash\n",
    "    for stock_obj in holdings:\n",
    "        price, num_units = stock_obj[0], stock_obj[1]\n",
    "        cur_assets += (last_price * num_units)\n",
    "    return [cash, holdings, ((cur_assets - initial_amt) / initial_amt)]"
   ]
  },
  {
   "cell_type": "code",
   "execution_count": 291,
   "id": "a2c17160-f369-438e-afe4-eafefb79786f",
   "metadata": {},
   "outputs": [],
   "source": [
    "def baseline(day: datetime.datetime, data: object, initial_amt: float) -> [float, list, float]:\n",
    "    # [price, num_units]\n",
    "    holdings = []\n",
    "    cash = initial_amt\n",
    "\n",
    "    years_diff = datetime.datetime.today().year - day.year\n",
    "    months_diff = datetime.datetime.today().month - day.month\n",
    "    chunks = (years_diff * 12) + months_diff - 1\n",
    "\n",
    "    prev_month = -1\n",
    "    while(datetime.datetime.today() >= day):\n",
    "        day_str = datetime.datetime.strftime(day, '%Y-%m-%d')\n",
    "        if(day_str in data and cash > 0):\n",
    "            last_price = float(data[day_str]['4. close'])\n",
    "            #buy strategy\n",
    "            data[day_str]['1. open'], data[day_str]['2. high'], data[day_str]['3. low'] = float(data[day_str]['1. open']),\\\n",
    "                                            float(data[day_str]['2. high']), float(data[day_str]['3. low'])\n",
    "            if day.month != prev_month:\n",
    "                holdings.append([data[day_str]['1. open'], (initial_amt / chunks) / data[day_str]['1. open']])\n",
    "                prev_month = day.month\n",
    "                cash -= (initial_amt / chunks)\n",
    "        day += datetime.timedelta(days=1)\n",
    "\n",
    "    cur_assets = cash\n",
    "    for stock_obj in holdings:\n",
    "        price, num_units = stock_obj[0], stock_obj[1]\n",
    "        cur_assets += (last_price * num_units)\n",
    "    return [cash, holdings, ((cur_assets - initial_amt) / initial_amt)]"
   ]
  },
  {
   "cell_type": "code",
   "execution_count": 292,
   "id": "9c3f7699-0843-48d3-94de-2001ccd76415",
   "metadata": {},
   "outputs": [
    {
     "data": {
      "text/plain": [
       "[0.0,\n",
       " [[207.0077, 36.81561955098781],\n",
       "  [194.5044, 39.18223303598798],\n",
       "  [192.76809999999998, 39.78422655360076],\n",
       "  [178.91649999999998, 47.56997922241803],\n",
       "  [164.66719999999998, 52.6632693802555]],\n",
       " 1.7042958880177477]"
      ]
     },
     "execution_count": 292,
     "metadata": {},
     "output_type": "execute_result"
    }
   ],
   "source": [
    "start_date = '2015-01-01'\n",
    "day = datetime.datetime.strptime(start_date, '%Y-%m-%d')\n",
    "simulate(day, stock_data, 0.03, 0.03, 5, 10000)"
   ]
  },
  {
   "cell_type": "code",
   "execution_count": 293,
   "id": "ab0d1d9a-2cd1-48d3-9380-dc675c8c1fe4",
   "metadata": {},
   "outputs": [
    {
     "data": {
      "text/plain": [
       "12.380903055137637"
      ]
     },
     "execution_count": 293,
     "metadata": {},
     "output_type": "execute_result"
    }
   ],
   "source": [
    "baseline(day, stock_data, 10000)[2]"
   ]
  },
  {
   "cell_type": "code",
   "execution_count": 294,
   "id": "7d60be23-b21f-45dd-9900-b5fda93dacc7",
   "metadata": {},
   "outputs": [],
   "source": [
    "thresholds = [i / 100 for i in range(1, 5)]\n",
    "chunks = [i for i in range(1, 21)]\n",
    "results = {}\n",
    "# [chunk, return theshold, buy threshold, cash, holdings, utd return]\n",
    "res_list = []\n",
    "\n",
    "for chunk in chunks:\n",
    "    for return_thresh in thresholds:\n",
    "        for buy_thresh in thresholds:\n",
    "            results[(chunk, return_thresh, buy_thresh)] = simulate(day, stock_data, return_thresh, buy_thresh, chunk, 10000)\n",
    "            res_list.append([chunk, return_thresh, buy_thresh] + simulate(day, stock_data, return_thresh, buy_thresh, chunk, 10000))"
   ]
  },
  {
   "cell_type": "code",
   "execution_count": 295,
   "id": "c59fb82f-d1e4-431b-8ac0-3607dcc2aa3e",
   "metadata": {},
   "outputs": [
    {
     "name": "stdout",
     "output_type": "stream",
     "text": [
      "BASELINE RETURN: 1238%\n",
      "\n",
      "\n",
      "chunks: 2\n",
      "return threshold: 3.0%\n",
      "buy threshold: 4.0%\n",
      "TOTAL RETURN: 370%\n",
      "\n",
      "\n",
      "chunks: 2\n",
      "return threshold: 4.0%\n",
      "buy threshold: 4.0%\n",
      "TOTAL RETURN: 360%\n",
      "\n",
      "\n",
      "chunks: 3\n",
      "return threshold: 4.0%\n",
      "buy threshold: 4.0%\n",
      "TOTAL RETURN: 335%\n",
      "\n",
      "\n",
      "chunks: 4\n",
      "return threshold: 4.0%\n",
      "buy threshold: 4.0%\n",
      "TOTAL RETURN: 300%\n",
      "\n",
      "\n",
      "chunks: 1\n",
      "return threshold: 3.0%\n",
      "buy threshold: 4.0%\n",
      "TOTAL RETURN: 298%\n",
      "\n",
      "\n",
      "chunks: 1\n",
      "return threshold: 4.0%\n",
      "buy threshold: 4.0%\n",
      "TOTAL RETURN: 287%\n",
      "\n",
      "\n",
      "chunks: 3\n",
      "return threshold: 3.0%\n",
      "buy threshold: 4.0%\n",
      "TOTAL RETURN: 280%\n",
      "\n",
      "\n",
      "chunks: 1\n",
      "return threshold: 4.0%\n",
      "buy threshold: 1.0%\n",
      "TOTAL RETURN: 273%\n",
      "\n",
      "\n",
      "chunks: 2\n",
      "return threshold: 4.0%\n",
      "buy threshold: 1.0%\n",
      "TOTAL RETURN: 268%\n",
      "\n",
      "\n",
      "chunks: 5\n",
      "return threshold: 4.0%\n",
      "buy threshold: 4.0%\n",
      "TOTAL RETURN: 263%\n",
      "\n",
      "\n"
     ]
    }
   ],
   "source": [
    "print(f'BASELINE RETURN: {int(baseline(day, stock_data, 10000)[2] * 100)}%')\n",
    "print('\\n')\n",
    "res_list.sort(reverse=True, key = lambda i: i[5])\n",
    "top_ret = res_list\n",
    "for i in range(0, 10):\n",
    "    print(f\"chunks: {top_ret[i][0]}\")\n",
    "    print(f'return threshold: {top_ret[i][1] * 100}%')\n",
    "    print(f'buy threshold: {top_ret[i][2] * 100}%')\n",
    "    print(f'TOTAL RETURN: {int(top_ret[i][5] * 100)}%')\n",
    "    print('\\n')"
   ]
  }
 ],
 "metadata": {
  "kernelspec": {
   "display_name": "Python 3 (ipykernel)",
   "language": "python",
   "name": "python3"
  },
  "language_info": {
   "codemirror_mode": {
    "name": "ipython",
    "version": 3
   },
   "file_extension": ".py",
   "mimetype": "text/x-python",
   "name": "python",
   "nbconvert_exporter": "python",
   "pygments_lexer": "ipython3",
   "version": "3.12.8"
  }
 },
 "nbformat": 4,
 "nbformat_minor": 5
}
